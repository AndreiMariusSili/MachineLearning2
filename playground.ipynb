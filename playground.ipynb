{
 "cells": [
  {
   "cell_type": "code",
   "execution_count": 25,
   "metadata": {
    "collapsed": true
   },
   "outputs": [],
   "source": [
    "import math\n",
    "import numpy as np"
   ]
  },
  {
   "cell_type": "code",
   "execution_count": 26,
   "metadata": {},
   "outputs": [
    {
     "name": "stdout",
     "output_type": "stream",
     "text": [
      "1.0\n",
      "1.0\n",
      "1.0\n"
     ]
    },
    {
     "data": {
      "text/plain": [
       "0.0031971859050033136"
      ]
     },
     "execution_count": 26,
     "metadata": {},
     "output_type": "execute_result"
    }
   ],
   "source": [
    "px = np.array([0.60, 0.40])\n",
    "py = np.array([0.592, 0.408])\n",
    "pxy = np.array([[0.336, 0.264], [0.256, 0.144]])\n",
    "\n",
    "print(sum(px))\n",
    "print(sum(py))\n",
    "print(sum(sum(pxy)))\n",
    "\n",
    "I = 0\n",
    "for ix in range(2):\n",
    "    I -= px[ix] * math.log(px[ix])\n",
    "    for iy in range(2):\n",
    "        I += pxy[ix, iy] * math.log(pxy[ix, iy] / py[iy])        \n",
    "I"
   ]
  },
  {
   "cell_type": "code",
   "execution_count": 30,
   "metadata": {},
   "outputs": [
    {
     "name": "stdout",
     "output_type": "stream",
     "text": [
      "1.0\n",
      "1.0\n",
      "1.0\n"
     ]
    },
    {
     "data": {
      "text/plain": [
       "6.750155989720952e-17"
      ]
     },
     "execution_count": 30,
     "metadata": {},
     "output_type": "execute_result"
    }
   ],
   "source": [
    "pz = np.array([0.48, 0.52])\n",
    "pxz = np.array([[0.24, 0.36], [0.24, 0.16]])\n",
    "pyz = np.array([\n",
    "    [0.384, 0.208], \n",
    "    [0.096, 0.312]\n",
    "])\n",
    "pxyz = np.array([\n",
    "    [\n",
    "        [0.192, 0.144],\n",
    "        [0.048, 0.216]\n",
    "    ],\n",
    "    [\n",
    "        [0.192, 0.064],\n",
    "        [0.048, 0.096]\n",
    "    ]\n",
    "])\n",
    "\n",
    "print(sum(pz))\n",
    "print(sum(sum(pxz)))\n",
    "print(sum(sum(pyz)))\n",
    "\n",
    "I = 0\n",
    "for iz in range(2):\n",
    "    for ix in range(2):\n",
    "        for iy in range(2):\n",
    "            I += pxyz[ix, iy, iz] / pz[iz] * math.log(pxyz[ix, iy, iz] * pz[iz] / pxz[ix, iz] / pyz[iy, iz])\n",
    "    I = pz[iz] * I\n",
    "I"
   ]
  }
 ],
 "metadata": {
  "kernelspec": {
   "display_name": "Python 3",
   "language": "python",
   "name": "python3"
  },
  "language_info": {
   "codemirror_mode": {
    "name": "ipython",
    "version": 3
   },
   "file_extension": ".py",
   "mimetype": "text/x-python",
   "name": "python",
   "nbconvert_exporter": "python",
   "pygments_lexer": "ipython3",
   "version": "3.6.3"
  }
 },
 "nbformat": 4,
 "nbformat_minor": 2
}
